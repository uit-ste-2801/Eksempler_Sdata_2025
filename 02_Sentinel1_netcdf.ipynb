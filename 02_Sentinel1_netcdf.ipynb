{
 "cells": [
  {
   "cell_type": "markdown",
   "metadata": {},
   "source": [
    "## Example showing the use of Xarray to read OpenDAP Netcdf files from Sentinel"
   ]
  },
  {
   "cell_type": "code",
   "execution_count": null,
   "metadata": {},
   "outputs": [],
   "source": [
    "%matplotlib widget\n",
    "\n",
    "import numpy as np\n",
    "import xarray as xa\n",
    "import matplotlib.pyplot as plt\n",
    "from skimage import exposure # We are going to rescale the image"
   ]
  },
  {
   "cell_type": "markdown",
   "metadata": {},
   "source": [
    "We have now imported some libraries and will load some Sentinel 2 OpenDAP NetCDF\n",
    "data from https://satellittdata.no"
   ]
  },
  {
   "cell_type": "code",
   "execution_count": null,
   "metadata": {},
   "outputs": [],
   "source": [
    "# PODAAC\n",
    "# url = \"https://podaac-opendap.jpl.nasa.gov/opendap/allData/ghrsst/data/GDS2/L4/GLOB/JPL/MUR/v4.1/2021/308/20211104090000-JPL-L4_GHRSST-SSTfnd-MUR-GLOB-v02.0-fv04.1.nc\"\n",
    "\n",
    "# url = \"https://podaac-opendap.jpl.nasa.gov/opendap/allData/ghrsst/data/GDS2/L2P/AVHRRMTA_G/NAVO/v2/2021/261/20210918005147-NAVO-L2P_GHRSST-SST1m-AVHRRMTA_G-v02.0-fv02.0.nc\"\n",
    "\n",
    "# Fra satellittdata.no\n",
    "url = 'https://nbstds.met.no/thredds/dodsC/DC-S2-32VMK-2020_BB'\n",
    "dset = xa.open_dataset(url+'#fillmismatch') # opening OpenDAP NetCDF dataset\n"
   ]
  },
  {
   "cell_type": "markdown",
   "metadata": {},
   "source": [
    "Having opened the dataset we can how have a look at the header"
   ]
  },
  {
   "cell_type": "code",
   "execution_count": null,
   "metadata": {},
   "outputs": [],
   "source": [
    "display(dset)"
   ]
  },
  {
   "cell_type": "code",
   "execution_count": null,
   "metadata": {},
   "outputs": [],
   "source": [
    "    "
   ]
  },
  {
   "cell_type": "code",
   "execution_count": null,
   "metadata": {},
   "outputs": [],
   "source": [
    "display(dset.B2)"
   ]
  },
  {
   "cell_type": "markdown",
   "metadata": {},
   "source": [
    "**What is B2?**\n",
    "\n",
    "We can plot B2 to see it better"
   ]
  },
  {
   "cell_type": "code",
   "execution_count": null,
   "metadata": {},
   "outputs": [],
   "source": [
    "# East - west\n",
    "xmin = 9000\n",
    "xmax = -1\n",
    "\n",
    "# North - south\n",
    "ymin = 0\n",
    "ymax = 2000\n",
    "\n",
    "plt.figure()\n",
    "view =dset.B2[0,ymin:ymax,xmin:xmax]\n",
    "view.plot(cmap='Greys',vmax=1000)\n",
    "plt.show()\n",
    "\n"
   ]
  },
  {
   "cell_type": "code",
   "execution_count": null,
   "metadata": {},
   "outputs": [],
   "source": [
    "print(dset.TCI)"
   ]
  },
  {
   "cell_type": "code",
   "execution_count": null,
   "metadata": {},
   "outputs": [],
   "source": [
    "\n",
    "extent = np.asarray(\n",
    "            [dset.lon[ymin,xmin].data, dset.lon[ymin,xmax].data,\n",
    "            dset.lat[ymax,xmax].data, dset.lat[ymin,xmin].data]\n",
    "         )\n",
    "\n",
    "#print('lon and lat',(extent)) # These are the latitudes and longitudes\n",
    "n=0\n",
    "# Reading in some parts of the r b g bands\n",
    "b = dset.B2[n,ymin:ymax,xmin:xmax]/float(dset.attrs['QUANTIFICATION_VALUE'])\n",
    "g = dset.B3[n,ymin:ymax,xmin:xmax]/float(dset.attrs['QUANTIFICATION_VALUE'])\n",
    "r = dset.B4[n,ymin:ymax,xmin:xmax]/float(dset.attrs['QUANTIFICATION_VALUE'])\n",
    "\n",
    "P0, P1 = (0, 0.15) # These are the percentages we are going to rescale on \n",
    "\n",
    "# Rescaling the exposures using scikit-image \n",
    "r = exposure.rescale_intensity(r,in_range=(P0,P1))\n",
    "g = exposure.rescale_intensity(g,in_range=(P0,P1))\n",
    "b = exposure.rescale_intensity(b,in_range=(P0,P1))\n",
    "\n",
    "# Making the RGB image\n",
    "rgb = np.dstack((r,g,b))\n",
    "\n",
    "# Clipping it\n",
    "rgb[rgb>1]=1.0\n",
    "\n",
    "\n",
    "# Plotting the RGB image\n",
    "plt.figure()\n",
    "plt.imshow(rgb, interpolation='none', aspect='auto', extent = extent)\n",
    "plt.show()"
   ]
  },
  {
   "cell_type": "code",
   "execution_count": null,
   "metadata": {},
   "outputs": [],
   "source": []
  },
  {
   "cell_type": "code",
   "execution_count": null,
   "metadata": {},
   "outputs": [],
   "source": []
  }
 ],
 "metadata": {
  "kernelspec": {
   "display_name": "Python 3 (ipykernel)",
   "language": "python",
   "name": "python3"
  },
  "language_info": {
   "codemirror_mode": {
    "name": "ipython",
    "version": 3
   },
   "file_extension": ".py",
   "mimetype": "text/x-python",
   "name": "python",
   "nbconvert_exporter": "python",
   "pygments_lexer": "ipython3"
  }
 },
 "nbformat": 4,
 "nbformat_minor": 4
}
