{
 "cells": [
  {
   "cell_type": "code",
   "execution_count": null,
   "metadata": {},
   "outputs": [],
   "source": [
    "%matplotlib widget"
   ]
  },
  {
   "cell_type": "markdown",
   "metadata": {},
   "source": [
    "# This example shows how to read James Webb image\n",
    "\n",
    "The images need to be downloaded from canvas and placed together with this file.\n",
    "This example (loosly based on the \"Read and plot an image from FITS file\" on astropy https://docs.astropy.org/en/stable/generated/examples/io/plot_fits-image.html )."
   ]
  },
  {
   "cell_type": "markdown",
   "metadata": {},
   "source": [
    "Set up matplotlib and use a nicer set of plot parameters\n",
    "\n"
   ]
  },
  {
   "cell_type": "code",
   "execution_count": null,
   "metadata": {},
   "outputs": [],
   "source": [
    "import matplotlib.pyplot as plt\n",
    "from astropy.visualization import astropy_mpl_style\n",
    "import  astropy.visualization as asv \n",
    "from skimage.transform import resize # For resizing the images\n",
    "import numpy as np\n",
    "plt.style.use(astropy_mpl_style)"
   ]
  },
  {
   "cell_type": "markdown",
   "metadata": {},
   "source": [
    "Open the images, one for each colour channel  "
   ]
  },
  {
   "cell_type": "code",
   "execution_count": null,
   "metadata": {},
   "outputs": [],
   "source": [
    "\n",
    "from astropy.io import fits\n",
    "\n",
    "# What we set as red\n",
    "rurl = 'jw02107-c1003_t003_nircam_clear-f360m_i2d.fits'\n",
    "# What we set as green\n",
    "gurl = 'jw02107-c1003_t003_nircam_clear-f335m_i2d.fits'\n",
    "# What we set as blue\n",
    "burl = 'jw02107-c1003_t003_nircam_clear-f300m_i2d.fits'"
   ]
  },
  {
   "cell_type": "markdown",
   "metadata": {},
   "source": [
    "We now can have a look at what the file contains\n"
   ]
  },
  {
   "cell_type": "code",
   "execution_count": null,
   "metadata": {},
   "outputs": [],
   "source": [
    "fits.info(rurl)"
   ]
  },
  {
   "cell_type": "markdown",
   "metadata": {},
   "source": [
    "The main image is located in \"SCI\", which we select with ``ext=1`` when reading the file.\n",
    "\n",
    "Now we open the files and read in the image arrays. We also resize them so that they all\n",
    "are the same size."
   ]
  },
  {
   "cell_type": "code",
   "execution_count": null,
   "metadata": {},
   "outputs": [],
   "source": [
    "r = fits.getdata(rurl, ext=1)\n",
    "\n",
    "g = fits.getdata(gurl, ext=1)\n",
    "g = resize(g, r.shape) # Resizing the image to the same shape as r\n",
    "\n",
    "b = fits.getdata(burl, ext=1)\n",
    "b = resize(b, r.shape) # Resizing the image to the same shape as r"
   ]
  },
  {
   "cell_type": "markdown",
   "metadata": {},
   "source": [
    "The data is now stored as a 2D numpy array. Print the dimensions using the\n",
    "shape attribute:"
   ]
  },
  {
   "cell_type": "code",
   "execution_count": null,
   "metadata": {},
   "outputs": [],
   "source": [
    "print(r.shape)"
   ]
  },
  {
   "cell_type": "markdown",
   "metadata": {},
   "source": [
    "We can now have a look at a greyscale image of the red band "
   ]
  },
  {
   "cell_type": "code",
   "execution_count": null,
   "metadata": {},
   "outputs": [],
   "source": [
    "plt.figure()\n",
    "norm = asv.simple_norm(r, stretch='asinh',asinh_a=0.05, min_percent=1 ,max_percent=99.9) # How we scale the image\n",
    "plt.imshow(r,norm=norm, cmap='gray') # Plotting the grayscale image\n",
    "plt.grid(False)\n",
    "plt.colorbar()"
   ]
  },
  {
   "cell_type": "code",
   "execution_count": null,
   "metadata": {},
   "outputs": [],
   "source": [
    "rgb_default = asv.make_lupton_rgb(r, g, b, Q=8,stretch=5)\n",
    "plt.figure(figsize=(6,10))\n",
    "plt.imshow(rgb_default)\n",
    "plt.grid(False)"
   ]
  },
  {
   "cell_type": "markdown",
   "metadata": {},
   "source": [
    "We can plot a smaller area of it"
   ]
  },
  {
   "cell_type": "code",
   "execution_count": null,
   "metadata": {},
   "outputs": [],
   "source": [
    "plt.figure()\n",
    "plt.imshow(rgb_default[1000:2000,500:1500])\n",
    "plt.grid(False)"
   ]
  },
  {
   "cell_type": "code",
   "execution_count": null,
   "metadata": {},
   "outputs": [],
   "source": []
  }
 ],
 "metadata": {
  "kernelspec": {
   "display_name": "Python 3 (ipykernel)",
   "language": "python",
   "name": "python3"
  },
  "language_info": {
   "codemirror_mode": {
    "name": "ipython",
    "version": 3
   },
   "file_extension": ".py",
   "mimetype": "text/x-python",
   "name": "python",
   "nbconvert_exporter": "python",
   "pygments_lexer": "ipython3"
  }
 },
 "nbformat": 4,
 "nbformat_minor": 4
}
