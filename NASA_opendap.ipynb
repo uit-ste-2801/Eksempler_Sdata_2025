{
 "cells": [
  {
   "cell_type": "markdown",
   "metadata": {},
   "source": [
    "## Example showing the use of Xarray to read OpenDAP Netcdf files from NASA"
   ]
  },
  {
   "cell_type": "code",
   "execution_count": null,
   "metadata": {},
   "outputs": [],
   "source": [
    "%matplotlib widget\n",
    "\n",
    "import numpy as np\n",
    "import xarray as xr\n",
    "import matplotlib.pyplot as plt\n",
    "from pydap.cas.urs import setup_session\n",
    "import requests\n",
    "import json"
   ]
  },
  {
   "cell_type": "markdown",
   "metadata": {},
   "source": [
    "# Getting TOKEN\n",
    "Before being able to run the program you need to get a token from\n",
    "https://urs.earthdata.nasa.gov/profile/edit\n",
    "\n",
    "The token needs to be placed in the *template_token.json* file. \n",
    "The file should then be renamed to *token.json*"
   ]
  },
  {
   "cell_type": "markdown",
   "metadata": {},
   "source": [
    "After this we can import the token  (this will fail if the above procedure is not done )"
   ]
  },
  {
   "cell_type": "code",
   "execution_count": null,
   "metadata": {},
   "outputs": [],
   "source": [
    "# load token json data\n",
    "with open('token.json', 'r') as fp:\n",
    "    Authorization = json.load(fp)\n",
    "\n",
    "# pass Token Authorization to a new Session.\n",
    "my_session = requests.Session()\n",
    "my_session.headers = Authorization"
   ]
  },
  {
   "cell_type": "markdown",
   "metadata": {},
   "source": [
    "## Getting the data\n",
    "\n",
    "We will now give the url to a OPenDAP file found through earthdata search https://search.earthdata.nasa.gov/search  \n",
    "\n",
    "The easiest way to find the URL is the third method here: \n",
    "https://podaac.jpl.nasa.gov/OPeNDAP-in-the-Cloud\n"
   ]
  },
  {
   "cell_type": "code",
   "execution_count": null,
   "metadata": {},
   "outputs": [],
   "source": [
    "# PODAAC\n",
    "\n",
    "ds_url = \"https://opendap.earthdata.nasa.gov/collections/C1996881146-POCLOUD/granules/20241023090000-JPL-L4_GHRSST-SSTfnd-MUR-GLOB-v02.0-fv04.1\"\n",
    "ds_url = 'dap4:'+ds_url.split(':')[1] # Replace the https with dap4\n",
    "\n",
    "ds = xr.open_dataset(ds_url, engine='pydap', session=my_session) # Read in the data using the pydap module \n"
   ]
  },
  {
   "cell_type": "markdown",
   "metadata": {},
   "source": [
    "Having opened the dataset we can how have a look at the header"
   ]
  },
  {
   "cell_type": "code",
   "execution_count": null,
   "metadata": {},
   "outputs": [],
   "source": [
    "display(ds)"
   ]
  },
  {
   "cell_type": "markdown",
   "metadata": {},
   "source": [
    "In the example dataset we want to look at the sea surface temperature:"
   ]
  },
  {
   "cell_type": "code",
   "execution_count": null,
   "metadata": {},
   "outputs": [],
   "source": [
    "display(ds.analysed_sst)"
   ]
  },
  {
   "cell_type": "markdown",
   "metadata": {},
   "source": [
    "We can plot it over NOrway using this:"
   ]
  },
  {
   "cell_type": "code",
   "execution_count": null,
   "metadata": {},
   "outputs": [],
   "source": [
    "plt.figure()\n",
    "view = ds.analysed_sst.sel(lat=slice(55,78),lon=slice(-10,30)) # Here we select the lat and lon area around Norway\n",
    "view.plot(cmap=\"magma\")\n",
    "plt.show()"
   ]
  }
 ],
 "metadata": {
  "kernelspec": {
   "display_name": "Python 3 (ipykernel)",
   "language": "python",
   "name": "python3"
  },
  "language_info": {
   "codemirror_mode": {
    "name": "ipython",
    "version": 3
   },
   "file_extension": ".py",
   "mimetype": "text/x-python",
   "name": "python",
   "nbconvert_exporter": "python",
   "pygments_lexer": "ipython3"
  }
 },
 "nbformat": 4,
 "nbformat_minor": 4
}
